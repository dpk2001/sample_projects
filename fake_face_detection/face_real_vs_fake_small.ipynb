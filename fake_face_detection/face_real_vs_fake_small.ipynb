{
 "cells": [
  {
   "cell_type": "markdown",
   "metadata": {},
   "source": [
    "### Perform transfer learning to identify real and fake faces"
   ]
  },
  {
   "cell_type": "code",
   "execution_count": 1,
   "metadata": {},
   "outputs": [
    {
     "data": {
      "application/vnd.jupyter.widget-view+json": {
       "model_id": "e0605946a61d4346829c241c65283230",
       "version_major": 2,
       "version_minor": 0
      },
      "text/plain": [
       "preprocessor_config.json:   0%|          | 0.00/160 [00:00<?, ?B/s]"
      ]
     },
     "metadata": {},
     "output_type": "display_data"
    },
    {
     "name": "stderr",
     "output_type": "stream",
     "text": [
      "/home/danny/git_projects/deep_learning_projects/deep_learning_projects/lib/python3.11/site-packages/huggingface_hub/file_download.py:1132: FutureWarning: `resume_download` is deprecated and will be removed in version 1.0.0. Downloads always resume when possible. If you want to force a new download, use `force_download=True`.\n",
      "  warnings.warn(\n"
     ]
    },
    {
     "data": {
      "application/vnd.jupyter.widget-view+json": {
       "model_id": "7a72d66824104ddbadd447698e24dad4",
       "version_major": 2,
       "version_minor": 0
      },
      "text/plain": [
       "config.json:   0%|          | 0.00/69.6k [00:00<?, ?B/s]"
      ]
     },
     "metadata": {},
     "output_type": "display_data"
    },
    {
     "data": {
      "application/vnd.jupyter.widget-view+json": {
       "model_id": "392154fd68294796bd0dd9537b4c452c",
       "version_major": 2,
       "version_minor": 0
      },
      "text/plain": [
       "config.json:   0%|          | 0.00/69.6k [00:00<?, ?B/s]"
      ]
     },
     "metadata": {},
     "output_type": "display_data"
    },
    {
     "data": {
      "application/vnd.jupyter.widget-view+json": {
       "model_id": "0aae1f93a903426a95e72506d9f29f46",
       "version_major": 2,
       "version_minor": 0
      },
      "text/plain": [
       "config.json:   0%|          | 0.00/69.6k [00:00<?, ?B/s]"
      ]
     },
     "metadata": {},
     "output_type": "display_data"
    },
    {
     "data": {
      "application/vnd.jupyter.widget-view+json": {
       "model_id": "8fe9665845834248a0ee58115392b95f",
       "version_major": 2,
       "version_minor": 0
      },
      "text/plain": [
       "pytorch_model.bin:   0%|          | 0.00/88.3M [00:00<?, ?B/s]"
      ]
     },
     "metadata": {},
     "output_type": "display_data"
    }
   ],
   "source": [
    "#Transformer model: https://huggingface.co/facebook/deit-small-patch16-224\n",
    "\n",
    "from transformers import AutoImageProcessor, AutoModel\n",
    "\n",
    "processor = AutoImageProcessor.from_pretrained(\"facebook/deit-small-patch16-224\", force_download=True)\n",
    "model = AutoModel.from_pretrained(\"facebook/deit-small-patch16-224\", force_download=True, add_pooling_layer=False)"
   ]
  },
  {
   "cell_type": "code",
   "execution_count": 2,
   "metadata": {},
   "outputs": [],
   "source": [
    "#Images from https://www.kaggle.com/datasets/hamzaboulahia/hardfakevsrealfaces\n",
    "\n",
    "import os\n",
    "base_path = '../data/faces'\n",
    "\n",
    "file_list = []\n",
    "\n",
    "for root, _, files in os.walk(base_path, topdown=False):\n",
    "   for name in files:\n",
    "      file_list.append(os.path.join(root, name))\n",
    "\n",
    "file_list.sort()\n",
    "\n",
    "#Create Test and Train Set\n",
    "\n",
    "X = []\n",
    "labels = []\n",
    "\n",
    "for file in file_list:\n",
    "    splitted = file.split('/')\n",
    "\n",
    "    label = splitted[3]\n",
    "\n",
    "    X.append(file)\n",
    "    labels.append(label)\n",
    "\n"
   ]
  },
  {
   "cell_type": "code",
   "execution_count": 3,
   "metadata": {},
   "outputs": [],
   "source": [
    "#Create mapping of labels to indicies\n",
    "\n",
    "label_to_id = dict()\n",
    "\n",
    "labs = list(set(labels))\n",
    "labs.sort()\n",
    "\n",
    "for ind, i in enumerate(labs):\n",
    "    label_to_id[i] = ind"
   ]
  },
  {
   "cell_type": "code",
   "execution_count": 4,
   "metadata": {},
   "outputs": [
    {
     "data": {
      "text/plain": [
       "{'fake': 0, 'real': 1}"
      ]
     },
     "execution_count": 4,
     "metadata": {},
     "output_type": "execute_result"
    }
   ],
   "source": [
    "label_to_id"
   ]
  },
  {
   "cell_type": "code",
   "execution_count": 5,
   "metadata": {},
   "outputs": [],
   "source": [
    "#Create label set for training\n",
    "\n",
    "y = []\n",
    "\n",
    "for i in labels:\n",
    "    y.append(label_to_id[i])\n"
   ]
  },
  {
   "cell_type": "code",
   "execution_count": 6,
   "metadata": {},
   "outputs": [],
   "source": [
    "from sklearn.model_selection import train_test_split\n",
    "\n",
    "#Create Train, Val and Test Sets\n",
    "\n",
    "\n",
    "X_train, X_o, y_train, y_o = train_test_split(X, y, test_size=0.2, random_state=111)\n",
    "X_test, X_val, y_test, y_val = train_test_split(X_o, y_o, test_size=0.5, random_state=112)\n"
   ]
  },
  {
   "cell_type": "code",
   "execution_count": 7,
   "metadata": {},
   "outputs": [
    {
     "data": {
      "text/plain": [
       "(1031, 129, 129)"
      ]
     },
     "execution_count": 7,
     "metadata": {},
     "output_type": "execute_result"
    }
   ],
   "source": [
    "len(X_train), len(X_val), len(X_test)"
   ]
  },
  {
   "cell_type": "code",
   "execution_count": 8,
   "metadata": {},
   "outputs": [],
   "source": [
    "from PIL import Image\n",
    "\n",
    "path = X_train[0]\n",
    "image = Image.open(path)\n",
    "inputs = processor(images=image, return_tensors=\"pt\")\n",
    "outputs = model(**inputs)"
   ]
  },
  {
   "cell_type": "code",
   "execution_count": 9,
   "metadata": {},
   "outputs": [
    {
     "data": {
      "text/plain": [
       "torch.Size([1, 197, 384])"
      ]
     },
     "execution_count": 9,
     "metadata": {},
     "output_type": "execute_result"
    }
   ],
   "source": [
    "out_shape = outputs.last_hidden_state.shape\n",
    "out_shape"
   ]
  },
  {
   "cell_type": "code",
   "execution_count": 10,
   "metadata": {},
   "outputs": [],
   "source": [
    "#Split to avoid memory errors\n",
    "import torch\n",
    "\n",
    "split_size = 64\n",
    "\n",
    "def split(images, dim):\n",
    "    temp = []\n",
    "\n",
    "    i = 0\n",
    "\n",
    "    while i < len(images):\n",
    "\n",
    "        with torch.no_grad():\n",
    "\n",
    "            inputs = processor(images=images[i:i+split_size], return_tensors=\"pt\")\n",
    "            outputs = model(**inputs)\n",
    "            lhs = outputs.last_hidden_state[:, 0, :] #[CLS] token\n",
    "            inputs_proc = lhs.view(inputs['pixel_values'].shape[0], dim)\n",
    "\n",
    "        temp.append(inputs_proc)\n",
    "        i += split_size\n",
    "\n",
    "    return temp"
   ]
  },
  {
   "cell_type": "markdown",
   "metadata": {},
   "source": [
    "### Train softmax on labels of output"
   ]
  },
  {
   "cell_type": "code",
   "execution_count": 11,
   "metadata": {},
   "outputs": [],
   "source": [
    "from torch.nn import functional as F\n",
    "from torch import nn\n",
    "import numpy as np\n",
    "\n",
    "dim2 = out_shape[2] #Output dimension (for passing to classifier)\n",
    "\n",
    "X_train2 = np.array(X_train)\n",
    "y_train2 = torch.tensor(np.array(y_train))\n",
    "\n",
    "X_val2 = np.array(X_val)\n",
    "y_val2 = torch.tensor(np.array(y_val))\n",
    "\n",
    "#Store indices for batching later\n",
    "\n",
    "train_inds = np.arange(len(X_train2))\n",
    "\n",
    "#Pre-pass through all images for speed\n",
    "\n",
    "#Train\n",
    "\n",
    "images = []\n",
    "\n",
    "for path in X_train2:\n",
    "    image = Image.open(path)\n",
    "    images.append(image)\n",
    "\n",
    "#Validation\n",
    "\n",
    "train_inputs = torch.cat(split(images, dim2))\n",
    "\n",
    "images = []\n",
    "\n",
    "for path in X_val2:\n",
    "    image = Image.open(path)\n",
    "    images.append(image)\n",
    "\n",
    "#Pass through transformer\n",
    "\n",
    "val_inputs = torch.cat(split(images, dim2))\n",
    "\n",
    "#Define model\n",
    "\n",
    "class Model(nn.Module):\n",
    "\n",
    "    def __init__(self, dim2, out_dim):\n",
    "        super().__init__()\n",
    "\n",
    "        #Softmax Classification Layer\n",
    "        self.linear = nn.Linear(in_features=dim2, out_features=out_dim, bias=False) #Linear layer \n",
    "\n",
    "    def forward(self, X, targets):\n",
    "        \n",
    "        logits = self.linear(X)\n",
    "\n",
    "        loss = F.cross_entropy(logits, targets)\n",
    "\n",
    "        return logits, loss"
   ]
  },
  {
   "cell_type": "code",
   "execution_count": 12,
   "metadata": {},
   "outputs": [
    {
     "name": "stdout",
     "output_type": "stream",
     "text": [
      "iter: 0 train_loss: 0.6830078363418579 val_loss: 0.7005904316902161\n",
      "iter: 50 train_loss: 0.22814179956912994 val_loss: 0.21171599626541138\n",
      "iter: 100 train_loss: 0.15702001750469208 val_loss: 0.1563359797000885\n",
      "iter: 150 train_loss: 0.1205873042345047 val_loss: 0.12530486285686493\n",
      "iter: 200 train_loss: 0.09923643618822098 val_loss: 0.10867346823215485\n",
      "iter: 250 train_loss: 0.084819495677948 val_loss: 0.1045040488243103\n",
      "iter: 300 train_loss: 0.07252571731805801 val_loss: 0.09284936636686325\n",
      "iter: 350 train_loss: 0.06347836554050446 val_loss: 0.0849367305636406\n",
      "iter: 400 train_loss: 0.05637827515602112 val_loss: 0.0818326473236084\n",
      "iter: 450 train_loss: 0.05058078467845917 val_loss: 0.08012460172176361\n",
      "iter: 500 train_loss: 0.04585384950041771 val_loss: 0.07764910906553268\n",
      "iter: 550 train_loss: 0.041616395115852356 val_loss: 0.0782717615365982\n",
      "iter: 600 train_loss: 0.03824881836771965 val_loss: 0.07294777780771255\n",
      "iter: 650 train_loss: 0.034795138984918594 val_loss: 0.07273538410663605\n",
      "iter: 700 train_loss: 0.03244875371456146 val_loss: 0.07081318646669388\n",
      "iter: 750 train_loss: 0.03019247204065323 val_loss: 0.07021564990282059\n",
      "iter: 800 train_loss: 0.027856240049004555 val_loss: 0.06762836128473282\n",
      "iter: 850 train_loss: 0.02633862942457199 val_loss: 0.06897713989019394\n",
      "iter: 900 train_loss: 0.02451413683593273 val_loss: 0.06791489571332932\n",
      "iter: 950 train_loss: 0.022966008633375168 val_loss: 0.06706374138593674\n",
      "iter: 1000 train_loss: 0.021490201354026794 val_loss: 0.06720870733261108\n",
      "iter: 1050 train_loss: 0.020316431298851967 val_loss: 0.06333208084106445\n",
      "iter: 1100 train_loss: 0.019287243485450745 val_loss: 0.06665661931037903\n",
      "iter: 1150 train_loss: 0.01829940266907215 val_loss: 0.06345361471176147\n",
      "iter: 1200 train_loss: 0.017122572287917137 val_loss: 0.06444475799798965\n",
      "iter: 1250 train_loss: 0.016461461782455444 val_loss: 0.062379393726587296\n",
      "iter: 1300 train_loss: 0.015285096131265163 val_loss: 0.06501277536153793\n",
      "iter: 1350 train_loss: 0.014571609906852245 val_loss: 0.06362425535917282\n",
      "iter: 1400 train_loss: 0.01396675780415535 val_loss: 0.06366981565952301\n",
      "iter: 1450 train_loss: 0.01324885431677103 val_loss: 0.06255902349948883\n",
      "iter: 1500 train_loss: 0.012603593058884144 val_loss: 0.062003958970308304\n",
      "iter: 1550 train_loss: 0.011993300169706345 val_loss: 0.060545746237039566\n",
      "iter: 1600 train_loss: 0.011552981100976467 val_loss: 0.057207778096199036\n",
      "iter: 1650 train_loss: 0.011246438138186932 val_loss: 0.058256376534700394\n",
      "iter: 1700 train_loss: 0.010524760000407696 val_loss: 0.0618601031601429\n",
      "iter: 1750 train_loss: 0.010123097337782383 val_loss: 0.05881449952721596\n",
      "iter: 1800 train_loss: 0.009696058928966522 val_loss: 0.05871763825416565\n",
      "iter: 1850 train_loss: 0.009308679960668087 val_loss: 0.06134803220629692\n",
      "iter: 1900 train_loss: 0.008886391296982765 val_loss: 0.05883999913930893\n",
      "iter: 1950 train_loss: 0.008605919778347015 val_loss: 0.05862950161099434\n",
      "iter: 2000 train_loss: 0.00832789484411478 val_loss: 0.058094970881938934\n",
      "iter: 2050 train_loss: 0.007948542945086956 val_loss: 0.057794101536273956\n",
      "iter: 2100 train_loss: 0.007606105413287878 val_loss: 0.05871741846203804\n",
      "iter: 2150 train_loss: 0.007334406487643719 val_loss: 0.05795074626803398\n",
      "iter: 2200 train_loss: 0.007092099636793137 val_loss: 0.06050970032811165\n",
      "iter: 2250 train_loss: 0.006788355764001608 val_loss: 0.059357721358537674\n",
      "iter: 2300 train_loss: 0.006534266285598278 val_loss: 0.05965954065322876\n",
      "iter: 2350 train_loss: 0.006319462787359953 val_loss: 0.05930958315730095\n",
      "iter: 2400 train_loss: 0.006063463632017374 val_loss: 0.058104872703552246\n",
      "iter: 2450 train_loss: 0.0058588325046002865 val_loss: 0.059836775064468384\n"
     ]
    }
   ],
   "source": [
    "batch_size = 64\n",
    "iterations = 2500\n",
    "print_cadence = 50\n",
    "learning_rate = 0.001\n",
    "\n",
    "#Set random seed\n",
    "np.random.seed(0)\n",
    "torch.manual_seed(1)\n",
    "\n",
    "#Instantiate model\n",
    "\n",
    "classifier = Model(dim2, len(label_to_id))\n",
    "classifier.to('cuda')\n",
    "\n",
    "#Define optimizer\n",
    "\n",
    "optimizer = torch.optim.Adam(classifier.parameters(), lr=learning_rate)\n",
    "\n",
    "#Perform training\n",
    "\n",
    "for iter in range(iterations):\n",
    "\n",
    "    #Output as desired\n",
    "\n",
    "    if iter % print_cadence == 0:\n",
    "\n",
    "        with torch.no_grad():\n",
    "\n",
    "            #Set to eval mode\n",
    "            classifier.eval()\n",
    "\n",
    "            #Compute train/val losses\n",
    "            _, train_loss = classifier(train_inputs.to('cuda'), y_train2.to('cuda'))\n",
    "            _, val_loss = classifier(val_inputs.to('cuda'), y_val2.to('cuda'))\n",
    "\n",
    "            print(f'iter: {iter} train_loss: {train_loss} val_loss: {val_loss}')\n",
    "\n",
    "            #Set back to train mode\n",
    "            classifier.train()\n",
    "\n",
    "    #Zero gradients\n",
    "\n",
    "    classifier.zero_grad()\n",
    "\n",
    "    #Get random batch\n",
    "\n",
    "    batch_ind = np.random.choice(train_inds, size=batch_size, replace=False)\n",
    "\n",
    "    #Pass model forward\n",
    "\n",
    "    _, loss = classifier(train_inputs[batch_ind].to('cuda'), y_train2[batch_ind].to('cuda'))\n",
    "\n",
    "    #Call Backward to get gradients\n",
    "\n",
    "    loss.backward()\n",
    "\n",
    "    #Perform optimization\n",
    "\n",
    "    optimizer.step()"
   ]
  },
  {
   "cell_type": "markdown",
   "metadata": {},
   "source": [
    "### Evaluate test set"
   ]
  },
  {
   "cell_type": "code",
   "execution_count": 13,
   "metadata": {},
   "outputs": [],
   "source": [
    "#Get logits on test_set\n",
    "\n",
    "X_test2 = np.array(X_test)\n",
    "y_test2 = torch.tensor(np.array(y_test))\n",
    "\n",
    "images = []\n",
    "\n",
    "for path in X_test2:\n",
    "    image = Image.open(path)\n",
    "    images.append(image)\n",
    "\n",
    "#Pass through transformer\n",
    "\n",
    "test_inputs = torch.cat(split(images, dim2))\n",
    "\n",
    "#Output as desired\n",
    "\n",
    "with torch.no_grad():\n",
    "\n",
    "    #Set to eval mode\n",
    "    classifier.eval()\n",
    "\n",
    "    #Compute test losses\n",
    "\n",
    "    test_logits, test_loss = classifier(test_inputs.to('cuda'), y_test2.to('cuda'))\n",
    "\n",
    "    #Set back to train mode\n",
    "    classifier.train()\n"
   ]
  },
  {
   "cell_type": "code",
   "execution_count": 14,
   "metadata": {},
   "outputs": [],
   "source": [
    "cut_off = 0.5\n",
    "\n",
    "normed_class_1 = F.softmax(test_logits, dim=1).to('cpu').numpy()[:, 1]\n",
    "labels = []\n",
    "\n",
    "for prob in normed_class_1:\n",
    "    if prob > cut_off:\n",
    "        labels.append(1)\n",
    "    else:\n",
    "        labels.append(0)"
   ]
  },
  {
   "cell_type": "code",
   "execution_count": 15,
   "metadata": {},
   "outputs": [],
   "source": [
    "y_true = y_test2"
   ]
  },
  {
   "cell_type": "code",
   "execution_count": 16,
   "metadata": {},
   "outputs": [
    {
     "data": {
      "text/plain": [
       "(64, 2, 2, 61)"
      ]
     },
     "execution_count": 16,
     "metadata": {},
     "output_type": "execute_result"
    }
   ],
   "source": [
    "from sklearn.metrics import confusion_matrix\n",
    "\n",
    "tn, fp, fn, tp = confusion_matrix(y_true, labels).ravel()\n",
    "tn, fp, fn, tp"
   ]
  },
  {
   "cell_type": "code",
   "execution_count": 17,
   "metadata": {},
   "outputs": [],
   "source": [
    "precision = tp / (tp + fp)\n",
    "accuracy = (tp + tn) / (tp + fp + tn + fn)\n",
    "recall = tp / y_true.numpy().sum()"
   ]
  },
  {
   "cell_type": "code",
   "execution_count": 18,
   "metadata": {},
   "outputs": [
    {
     "data": {
      "text/plain": [
       "(0.9689922480620154, 0.9682539682539683, 0.9682539682539683)"
      ]
     },
     "execution_count": 18,
     "metadata": {},
     "output_type": "execute_result"
    }
   ],
   "source": [
    "accuracy, precision, recall"
   ]
  },
  {
   "cell_type": "markdown",
   "metadata": {},
   "source": [
    "### Compare to classifier that just picked by most frequent"
   ]
  },
  {
   "cell_type": "code",
   "execution_count": 19,
   "metadata": {},
   "outputs": [
    {
     "data": {
      "text/html": [
       "<style>#sk-container-id-1 {\n",
       "  /* Definition of color scheme common for light and dark mode */\n",
       "  --sklearn-color-text: black;\n",
       "  --sklearn-color-line: gray;\n",
       "  /* Definition of color scheme for unfitted estimators */\n",
       "  --sklearn-color-unfitted-level-0: #fff5e6;\n",
       "  --sklearn-color-unfitted-level-1: #f6e4d2;\n",
       "  --sklearn-color-unfitted-level-2: #ffe0b3;\n",
       "  --sklearn-color-unfitted-level-3: chocolate;\n",
       "  /* Definition of color scheme for fitted estimators */\n",
       "  --sklearn-color-fitted-level-0: #f0f8ff;\n",
       "  --sklearn-color-fitted-level-1: #d4ebff;\n",
       "  --sklearn-color-fitted-level-2: #b3dbfd;\n",
       "  --sklearn-color-fitted-level-3: cornflowerblue;\n",
       "\n",
       "  /* Specific color for light theme */\n",
       "  --sklearn-color-text-on-default-background: var(--sg-text-color, var(--theme-code-foreground, var(--jp-content-font-color1, black)));\n",
       "  --sklearn-color-background: var(--sg-background-color, var(--theme-background, var(--jp-layout-color0, white)));\n",
       "  --sklearn-color-border-box: var(--sg-text-color, var(--theme-code-foreground, var(--jp-content-font-color1, black)));\n",
       "  --sklearn-color-icon: #696969;\n",
       "\n",
       "  @media (prefers-color-scheme: dark) {\n",
       "    /* Redefinition of color scheme for dark theme */\n",
       "    --sklearn-color-text-on-default-background: var(--sg-text-color, var(--theme-code-foreground, var(--jp-content-font-color1, white)));\n",
       "    --sklearn-color-background: var(--sg-background-color, var(--theme-background, var(--jp-layout-color0, #111)));\n",
       "    --sklearn-color-border-box: var(--sg-text-color, var(--theme-code-foreground, var(--jp-content-font-color1, white)));\n",
       "    --sklearn-color-icon: #878787;\n",
       "  }\n",
       "}\n",
       "\n",
       "#sk-container-id-1 {\n",
       "  color: var(--sklearn-color-text);\n",
       "}\n",
       "\n",
       "#sk-container-id-1 pre {\n",
       "  padding: 0;\n",
       "}\n",
       "\n",
       "#sk-container-id-1 input.sk-hidden--visually {\n",
       "  border: 0;\n",
       "  clip: rect(1px 1px 1px 1px);\n",
       "  clip: rect(1px, 1px, 1px, 1px);\n",
       "  height: 1px;\n",
       "  margin: -1px;\n",
       "  overflow: hidden;\n",
       "  padding: 0;\n",
       "  position: absolute;\n",
       "  width: 1px;\n",
       "}\n",
       "\n",
       "#sk-container-id-1 div.sk-dashed-wrapped {\n",
       "  border: 1px dashed var(--sklearn-color-line);\n",
       "  margin: 0 0.4em 0.5em 0.4em;\n",
       "  box-sizing: border-box;\n",
       "  padding-bottom: 0.4em;\n",
       "  background-color: var(--sklearn-color-background);\n",
       "}\n",
       "\n",
       "#sk-container-id-1 div.sk-container {\n",
       "  /* jupyter's `normalize.less` sets `[hidden] { display: none; }`\n",
       "     but bootstrap.min.css set `[hidden] { display: none !important; }`\n",
       "     so we also need the `!important` here to be able to override the\n",
       "     default hidden behavior on the sphinx rendered scikit-learn.org.\n",
       "     See: https://github.com/scikit-learn/scikit-learn/issues/21755 */\n",
       "  display: inline-block !important;\n",
       "  position: relative;\n",
       "}\n",
       "\n",
       "#sk-container-id-1 div.sk-text-repr-fallback {\n",
       "  display: none;\n",
       "}\n",
       "\n",
       "div.sk-parallel-item,\n",
       "div.sk-serial,\n",
       "div.sk-item {\n",
       "  /* draw centered vertical line to link estimators */\n",
       "  background-image: linear-gradient(var(--sklearn-color-text-on-default-background), var(--sklearn-color-text-on-default-background));\n",
       "  background-size: 2px 100%;\n",
       "  background-repeat: no-repeat;\n",
       "  background-position: center center;\n",
       "}\n",
       "\n",
       "/* Parallel-specific style estimator block */\n",
       "\n",
       "#sk-container-id-1 div.sk-parallel-item::after {\n",
       "  content: \"\";\n",
       "  width: 100%;\n",
       "  border-bottom: 2px solid var(--sklearn-color-text-on-default-background);\n",
       "  flex-grow: 1;\n",
       "}\n",
       "\n",
       "#sk-container-id-1 div.sk-parallel {\n",
       "  display: flex;\n",
       "  align-items: stretch;\n",
       "  justify-content: center;\n",
       "  background-color: var(--sklearn-color-background);\n",
       "  position: relative;\n",
       "}\n",
       "\n",
       "#sk-container-id-1 div.sk-parallel-item {\n",
       "  display: flex;\n",
       "  flex-direction: column;\n",
       "}\n",
       "\n",
       "#sk-container-id-1 div.sk-parallel-item:first-child::after {\n",
       "  align-self: flex-end;\n",
       "  width: 50%;\n",
       "}\n",
       "\n",
       "#sk-container-id-1 div.sk-parallel-item:last-child::after {\n",
       "  align-self: flex-start;\n",
       "  width: 50%;\n",
       "}\n",
       "\n",
       "#sk-container-id-1 div.sk-parallel-item:only-child::after {\n",
       "  width: 0;\n",
       "}\n",
       "\n",
       "/* Serial-specific style estimator block */\n",
       "\n",
       "#sk-container-id-1 div.sk-serial {\n",
       "  display: flex;\n",
       "  flex-direction: column;\n",
       "  align-items: center;\n",
       "  background-color: var(--sklearn-color-background);\n",
       "  padding-right: 1em;\n",
       "  padding-left: 1em;\n",
       "}\n",
       "\n",
       "\n",
       "/* Toggleable style: style used for estimator/Pipeline/ColumnTransformer box that is\n",
       "clickable and can be expanded/collapsed.\n",
       "- Pipeline and ColumnTransformer use this feature and define the default style\n",
       "- Estimators will overwrite some part of the style using the `sk-estimator` class\n",
       "*/\n",
       "\n",
       "/* Pipeline and ColumnTransformer style (default) */\n",
       "\n",
       "#sk-container-id-1 div.sk-toggleable {\n",
       "  /* Default theme specific background. It is overwritten whether we have a\n",
       "  specific estimator or a Pipeline/ColumnTransformer */\n",
       "  background-color: var(--sklearn-color-background);\n",
       "}\n",
       "\n",
       "/* Toggleable label */\n",
       "#sk-container-id-1 label.sk-toggleable__label {\n",
       "  cursor: pointer;\n",
       "  display: block;\n",
       "  width: 100%;\n",
       "  margin-bottom: 0;\n",
       "  padding: 0.5em;\n",
       "  box-sizing: border-box;\n",
       "  text-align: center;\n",
       "}\n",
       "\n",
       "#sk-container-id-1 label.sk-toggleable__label-arrow:before {\n",
       "  /* Arrow on the left of the label */\n",
       "  content: \"▸\";\n",
       "  float: left;\n",
       "  margin-right: 0.25em;\n",
       "  color: var(--sklearn-color-icon);\n",
       "}\n",
       "\n",
       "#sk-container-id-1 label.sk-toggleable__label-arrow:hover:before {\n",
       "  color: var(--sklearn-color-text);\n",
       "}\n",
       "\n",
       "/* Toggleable content - dropdown */\n",
       "\n",
       "#sk-container-id-1 div.sk-toggleable__content {\n",
       "  max-height: 0;\n",
       "  max-width: 0;\n",
       "  overflow: hidden;\n",
       "  text-align: left;\n",
       "  /* unfitted */\n",
       "  background-color: var(--sklearn-color-unfitted-level-0);\n",
       "}\n",
       "\n",
       "#sk-container-id-1 div.sk-toggleable__content.fitted {\n",
       "  /* fitted */\n",
       "  background-color: var(--sklearn-color-fitted-level-0);\n",
       "}\n",
       "\n",
       "#sk-container-id-1 div.sk-toggleable__content pre {\n",
       "  margin: 0.2em;\n",
       "  border-radius: 0.25em;\n",
       "  color: var(--sklearn-color-text);\n",
       "  /* unfitted */\n",
       "  background-color: var(--sklearn-color-unfitted-level-0);\n",
       "}\n",
       "\n",
       "#sk-container-id-1 div.sk-toggleable__content.fitted pre {\n",
       "  /* unfitted */\n",
       "  background-color: var(--sklearn-color-fitted-level-0);\n",
       "}\n",
       "\n",
       "#sk-container-id-1 input.sk-toggleable__control:checked~div.sk-toggleable__content {\n",
       "  /* Expand drop-down */\n",
       "  max-height: 200px;\n",
       "  max-width: 100%;\n",
       "  overflow: auto;\n",
       "}\n",
       "\n",
       "#sk-container-id-1 input.sk-toggleable__control:checked~label.sk-toggleable__label-arrow:before {\n",
       "  content: \"▾\";\n",
       "}\n",
       "\n",
       "/* Pipeline/ColumnTransformer-specific style */\n",
       "\n",
       "#sk-container-id-1 div.sk-label input.sk-toggleable__control:checked~label.sk-toggleable__label {\n",
       "  color: var(--sklearn-color-text);\n",
       "  background-color: var(--sklearn-color-unfitted-level-2);\n",
       "}\n",
       "\n",
       "#sk-container-id-1 div.sk-label.fitted input.sk-toggleable__control:checked~label.sk-toggleable__label {\n",
       "  background-color: var(--sklearn-color-fitted-level-2);\n",
       "}\n",
       "\n",
       "/* Estimator-specific style */\n",
       "\n",
       "/* Colorize estimator box */\n",
       "#sk-container-id-1 div.sk-estimator input.sk-toggleable__control:checked~label.sk-toggleable__label {\n",
       "  /* unfitted */\n",
       "  background-color: var(--sklearn-color-unfitted-level-2);\n",
       "}\n",
       "\n",
       "#sk-container-id-1 div.sk-estimator.fitted input.sk-toggleable__control:checked~label.sk-toggleable__label {\n",
       "  /* fitted */\n",
       "  background-color: var(--sklearn-color-fitted-level-2);\n",
       "}\n",
       "\n",
       "#sk-container-id-1 div.sk-label label.sk-toggleable__label,\n",
       "#sk-container-id-1 div.sk-label label {\n",
       "  /* The background is the default theme color */\n",
       "  color: var(--sklearn-color-text-on-default-background);\n",
       "}\n",
       "\n",
       "/* On hover, darken the color of the background */\n",
       "#sk-container-id-1 div.sk-label:hover label.sk-toggleable__label {\n",
       "  color: var(--sklearn-color-text);\n",
       "  background-color: var(--sklearn-color-unfitted-level-2);\n",
       "}\n",
       "\n",
       "/* Label box, darken color on hover, fitted */\n",
       "#sk-container-id-1 div.sk-label.fitted:hover label.sk-toggleable__label.fitted {\n",
       "  color: var(--sklearn-color-text);\n",
       "  background-color: var(--sklearn-color-fitted-level-2);\n",
       "}\n",
       "\n",
       "/* Estimator label */\n",
       "\n",
       "#sk-container-id-1 div.sk-label label {\n",
       "  font-family: monospace;\n",
       "  font-weight: bold;\n",
       "  display: inline-block;\n",
       "  line-height: 1.2em;\n",
       "}\n",
       "\n",
       "#sk-container-id-1 div.sk-label-container {\n",
       "  text-align: center;\n",
       "}\n",
       "\n",
       "/* Estimator-specific */\n",
       "#sk-container-id-1 div.sk-estimator {\n",
       "  font-family: monospace;\n",
       "  border: 1px dotted var(--sklearn-color-border-box);\n",
       "  border-radius: 0.25em;\n",
       "  box-sizing: border-box;\n",
       "  margin-bottom: 0.5em;\n",
       "  /* unfitted */\n",
       "  background-color: var(--sklearn-color-unfitted-level-0);\n",
       "}\n",
       "\n",
       "#sk-container-id-1 div.sk-estimator.fitted {\n",
       "  /* fitted */\n",
       "  background-color: var(--sklearn-color-fitted-level-0);\n",
       "}\n",
       "\n",
       "/* on hover */\n",
       "#sk-container-id-1 div.sk-estimator:hover {\n",
       "  /* unfitted */\n",
       "  background-color: var(--sklearn-color-unfitted-level-2);\n",
       "}\n",
       "\n",
       "#sk-container-id-1 div.sk-estimator.fitted:hover {\n",
       "  /* fitted */\n",
       "  background-color: var(--sklearn-color-fitted-level-2);\n",
       "}\n",
       "\n",
       "/* Specification for estimator info (e.g. \"i\" and \"?\") */\n",
       "\n",
       "/* Common style for \"i\" and \"?\" */\n",
       "\n",
       ".sk-estimator-doc-link,\n",
       "a:link.sk-estimator-doc-link,\n",
       "a:visited.sk-estimator-doc-link {\n",
       "  float: right;\n",
       "  font-size: smaller;\n",
       "  line-height: 1em;\n",
       "  font-family: monospace;\n",
       "  background-color: var(--sklearn-color-background);\n",
       "  border-radius: 1em;\n",
       "  height: 1em;\n",
       "  width: 1em;\n",
       "  text-decoration: none !important;\n",
       "  margin-left: 1ex;\n",
       "  /* unfitted */\n",
       "  border: var(--sklearn-color-unfitted-level-1) 1pt solid;\n",
       "  color: var(--sklearn-color-unfitted-level-1);\n",
       "}\n",
       "\n",
       ".sk-estimator-doc-link.fitted,\n",
       "a:link.sk-estimator-doc-link.fitted,\n",
       "a:visited.sk-estimator-doc-link.fitted {\n",
       "  /* fitted */\n",
       "  border: var(--sklearn-color-fitted-level-1) 1pt solid;\n",
       "  color: var(--sklearn-color-fitted-level-1);\n",
       "}\n",
       "\n",
       "/* On hover */\n",
       "div.sk-estimator:hover .sk-estimator-doc-link:hover,\n",
       ".sk-estimator-doc-link:hover,\n",
       "div.sk-label-container:hover .sk-estimator-doc-link:hover,\n",
       ".sk-estimator-doc-link:hover {\n",
       "  /* unfitted */\n",
       "  background-color: var(--sklearn-color-unfitted-level-3);\n",
       "  color: var(--sklearn-color-background);\n",
       "  text-decoration: none;\n",
       "}\n",
       "\n",
       "div.sk-estimator.fitted:hover .sk-estimator-doc-link.fitted:hover,\n",
       ".sk-estimator-doc-link.fitted:hover,\n",
       "div.sk-label-container:hover .sk-estimator-doc-link.fitted:hover,\n",
       ".sk-estimator-doc-link.fitted:hover {\n",
       "  /* fitted */\n",
       "  background-color: var(--sklearn-color-fitted-level-3);\n",
       "  color: var(--sklearn-color-background);\n",
       "  text-decoration: none;\n",
       "}\n",
       "\n",
       "/* Span, style for the box shown on hovering the info icon */\n",
       ".sk-estimator-doc-link span {\n",
       "  display: none;\n",
       "  z-index: 9999;\n",
       "  position: relative;\n",
       "  font-weight: normal;\n",
       "  right: .2ex;\n",
       "  padding: .5ex;\n",
       "  margin: .5ex;\n",
       "  width: min-content;\n",
       "  min-width: 20ex;\n",
       "  max-width: 50ex;\n",
       "  color: var(--sklearn-color-text);\n",
       "  box-shadow: 2pt 2pt 4pt #999;\n",
       "  /* unfitted */\n",
       "  background: var(--sklearn-color-unfitted-level-0);\n",
       "  border: .5pt solid var(--sklearn-color-unfitted-level-3);\n",
       "}\n",
       "\n",
       ".sk-estimator-doc-link.fitted span {\n",
       "  /* fitted */\n",
       "  background: var(--sklearn-color-fitted-level-0);\n",
       "  border: var(--sklearn-color-fitted-level-3);\n",
       "}\n",
       "\n",
       ".sk-estimator-doc-link:hover span {\n",
       "  display: block;\n",
       "}\n",
       "\n",
       "/* \"?\"-specific style due to the `<a>` HTML tag */\n",
       "\n",
       "#sk-container-id-1 a.estimator_doc_link {\n",
       "  float: right;\n",
       "  font-size: 1rem;\n",
       "  line-height: 1em;\n",
       "  font-family: monospace;\n",
       "  background-color: var(--sklearn-color-background);\n",
       "  border-radius: 1rem;\n",
       "  height: 1rem;\n",
       "  width: 1rem;\n",
       "  text-decoration: none;\n",
       "  /* unfitted */\n",
       "  color: var(--sklearn-color-unfitted-level-1);\n",
       "  border: var(--sklearn-color-unfitted-level-1) 1pt solid;\n",
       "}\n",
       "\n",
       "#sk-container-id-1 a.estimator_doc_link.fitted {\n",
       "  /* fitted */\n",
       "  border: var(--sklearn-color-fitted-level-1) 1pt solid;\n",
       "  color: var(--sklearn-color-fitted-level-1);\n",
       "}\n",
       "\n",
       "/* On hover */\n",
       "#sk-container-id-1 a.estimator_doc_link:hover {\n",
       "  /* unfitted */\n",
       "  background-color: var(--sklearn-color-unfitted-level-3);\n",
       "  color: var(--sklearn-color-background);\n",
       "  text-decoration: none;\n",
       "}\n",
       "\n",
       "#sk-container-id-1 a.estimator_doc_link.fitted:hover {\n",
       "  /* fitted */\n",
       "  background-color: var(--sklearn-color-fitted-level-3);\n",
       "}\n",
       "</style><div id=\"sk-container-id-1\" class=\"sk-top-container\"><div class=\"sk-text-repr-fallback\"><pre>DummyClassifier(strategy=&#x27;most_frequent&#x27;)</pre><b>In a Jupyter environment, please rerun this cell to show the HTML representation or trust the notebook. <br />On GitHub, the HTML representation is unable to render, please try loading this page with nbviewer.org.</b></div><div class=\"sk-container\" hidden><div class=\"sk-item\"><div class=\"sk-estimator fitted sk-toggleable\"><input class=\"sk-toggleable__control sk-hidden--visually\" id=\"sk-estimator-id-1\" type=\"checkbox\" checked><label for=\"sk-estimator-id-1\" class=\"sk-toggleable__label fitted sk-toggleable__label-arrow fitted\">&nbsp;&nbsp;DummyClassifier<a class=\"sk-estimator-doc-link fitted\" rel=\"noreferrer\" target=\"_blank\" href=\"https://scikit-learn.org/1.5/modules/generated/sklearn.dummy.DummyClassifier.html\">?<span>Documentation for DummyClassifier</span></a><span class=\"sk-estimator-doc-link fitted\">i<span>Fitted</span></span></label><div class=\"sk-toggleable__content fitted\"><pre>DummyClassifier(strategy=&#x27;most_frequent&#x27;)</pre></div> </div></div></div></div>"
      ],
      "text/plain": [
       "DummyClassifier(strategy='most_frequent')"
      ]
     },
     "execution_count": 19,
     "metadata": {},
     "output_type": "execute_result"
    }
   ],
   "source": [
    "from sklearn.dummy import DummyClassifier\n",
    "clf = DummyClassifier(strategy='most_frequent')\n",
    "clf.fit(X_test2, y_true)"
   ]
  },
  {
   "cell_type": "code",
   "execution_count": 20,
   "metadata": {},
   "outputs": [],
   "source": [
    "y_naive = clf.predict(X_test2)"
   ]
  },
  {
   "cell_type": "code",
   "execution_count": 21,
   "metadata": {},
   "outputs": [],
   "source": [
    "tn, fp, fn, tp = confusion_matrix(y_true, y_naive).ravel()"
   ]
  },
  {
   "cell_type": "code",
   "execution_count": 22,
   "metadata": {},
   "outputs": [
    {
     "name": "stderr",
     "output_type": "stream",
     "text": [
      "/tmp/ipykernel_92371/163943127.py:1: RuntimeWarning: invalid value encountered in scalar divide\n",
      "  precision = tp / (tp + fp)\n"
     ]
    },
    {
     "data": {
      "text/plain": [
       "(0.5116279069767442, nan)"
      ]
     },
     "execution_count": 22,
     "metadata": {},
     "output_type": "execute_result"
    }
   ],
   "source": [
    "precision = tp / (tp + fp)\n",
    "accuracy = (tp + tn) / (tp + fp + tn + fn)\n",
    "accuracy, precision"
   ]
  },
  {
   "cell_type": "code",
   "execution_count": null,
   "metadata": {},
   "outputs": [],
   "source": []
  },
  {
   "cell_type": "code",
   "execution_count": null,
   "metadata": {},
   "outputs": [],
   "source": []
  }
 ],
 "metadata": {
  "kernelspec": {
   "display_name": "deep_learning_projects",
   "language": "python",
   "name": "python3"
  },
  "language_info": {
   "codemirror_mode": {
    "name": "ipython",
    "version": 3
   },
   "file_extension": ".py",
   "mimetype": "text/x-python",
   "name": "python",
   "nbconvert_exporter": "python",
   "pygments_lexer": "ipython3",
   "version": "3.11.9"
  }
 },
 "nbformat": 4,
 "nbformat_minor": 2
}
